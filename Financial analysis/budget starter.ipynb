{
 "cells": [
  {
   "cell_type": "code",
   "execution_count": 26,
   "metadata": {},
   "outputs": [],
   "source": [
    "import os\n",
    "import plaid\n",
    "import requests\n",
    "import datetime\n",
    "import json\n",
    "import pandas as pd\n",
    "%matplotlib inline"
   ]
  },
  {
   "cell_type": "code",
   "execution_count": 2,
   "metadata": {},
   "outputs": [],
   "source": [
    "def pretty_print_response(response):\n",
    "  print(json.dumps(response, indent=4, sort_keys=True))"
   ]
  },
  {
   "cell_type": "code",
   "execution_count": 3,
   "metadata": {},
   "outputs": [],
   "source": [
    "PLAID_CLIENT_ID = os.getenv('PLAID_API_KEY')\n",
    "PLAID_SECRET = os.getenv('PLAID_SBX_SECRET_KEY')\n",
    "PLAID_PUBLIC_KEY = os.getenv('PLAID_API_PUBLIC')\n",
    "PLAID_ENV = os.getenv('PLAID_ENV', 'sandbox')\n",
    "PLAID_PRODUCTS = os.getenv('PLAID_PRODUCTS', 'transactions')"
   ]
  },
  {
   "cell_type": "markdown",
   "metadata": {},
   "source": [
    "# Plaid Access Token\n",
    "\n",
    "In this section, you will use the plaid-python api to generate the correct authentication tokens to access data in the free developer Sandbox. This mimics how you might connect to your own account or a customer account, but due to privacy issues, this homework will only require connecting to and analyzing the fake data from the developer sandbox that Plaid provides. \n",
    "\n",
    "Complete the following steps to generate an access token:\n",
    "1. Create a client to connect to plaid\n",
    "2. Use the client to generate a public token and request the following items: \n",
    "['transactions', 'income', 'assets']\n",
    "3. Exchange the public token for an access token\n",
    "4. Test the access token by requesting and printing the available test accounts"
   ]
  },
  {
   "cell_type": "markdown",
   "metadata": {},
   "source": [
    "### 1. Create a client to connect to plaid"
   ]
  },
  {
   "cell_type": "code",
   "execution_count": 4,
   "metadata": {},
   "outputs": [],
   "source": [
    "INSTITUTION_ID = \"ins_109508\""
   ]
  },
  {
   "cell_type": "code",
   "execution_count": 5,
   "metadata": {},
   "outputs": [],
   "source": [
    "client = plaid.Client(client_id=PLAID_CLIENT_ID, secret=PLAID_SECRET, public_key=PLAID_PUBLIC_KEY, environment='sandbox')"
   ]
  },
  {
   "cell_type": "markdown",
   "metadata": {},
   "source": [
    "### 2. Generate a public token"
   ]
  },
  {
   "cell_type": "code",
   "execution_count": 6,
   "metadata": {},
   "outputs": [],
   "source": [
    "# Create public token to be exchanged for institution access token\n",
    "create_tkn_response = client.Sandbox.public_token.create(INSTITUTION_ID, ['transactions','income','assets'])\n"
   ]
  },
  {
   "cell_type": "markdown",
   "metadata": {},
   "source": [
    "### 3. Exchange the public token for an access token"
   ]
  },
  {
   "cell_type": "code",
   "execution_count": 14,
   "metadata": {},
   "outputs": [],
   "source": [
    "# Exchange public token for access token\n",
    "exchange_response = client.Item.public_token.exchange(create_tkn_response['public_token'])\n",
    "\n",
    "# Store access token as variable\n",
    "access_token = exchange_response['access_token']"
   ]
  },
  {
   "cell_type": "markdown",
   "metadata": {},
   "source": [
    "### 4. Fetch Accounts"
   ]
  },
  {
   "cell_type": "code",
   "execution_count": 15,
   "metadata": {},
   "outputs": [
    {
     "data": {
      "text/plain": [
       "{'accounts': [{'account_id': 'QED4R7jvwDCGnXQXgpmmt1QlmKJRpxHp7llje',\n",
       "   'balances': {'available': 100,\n",
       "    'current': 110,\n",
       "    'iso_currency_code': 'USD',\n",
       "    'limit': None,\n",
       "    'unofficial_currency_code': None},\n",
       "   'mask': '0000',\n",
       "   'name': 'Plaid Checking',\n",
       "   'official_name': 'Plaid Gold Standard 0% Interest Checking',\n",
       "   'subtype': 'checking',\n",
       "   'type': 'depository'},\n",
       "  {'account_id': 'ZvW1kporXWCJnVyVEqGGI3y5GNWqezTgX11xG',\n",
       "   'balances': {'available': 200,\n",
       "    'current': 210,\n",
       "    'iso_currency_code': 'USD',\n",
       "    'limit': None,\n",
       "    'unofficial_currency_code': None},\n",
       "   'mask': '1111',\n",
       "   'name': 'Plaid Saving',\n",
       "   'official_name': 'Plaid Silver Standard 0.1% Interest Saving',\n",
       "   'subtype': 'savings',\n",
       "   'type': 'depository'},\n",
       "  {'account_id': 'MpD3nRabvDfjpwJwkRGGCLeAG6mnXpt9PRRmR',\n",
       "   'balances': {'available': None,\n",
       "    'current': 1000,\n",
       "    'iso_currency_code': 'USD',\n",
       "    'limit': None,\n",
       "    'unofficial_currency_code': None},\n",
       "   'mask': '2222',\n",
       "   'name': 'Plaid CD',\n",
       "   'official_name': 'Plaid Bronze Standard 0.2% Interest CD',\n",
       "   'subtype': 'cd',\n",
       "   'type': 'depository'},\n",
       "  {'account_id': '1bEkALoKdEfPQzgzlAWWU893ZDaKVWc5ePPD9',\n",
       "   'balances': {'available': None,\n",
       "    'current': 410,\n",
       "    'iso_currency_code': 'USD',\n",
       "    'limit': 2000,\n",
       "    'unofficial_currency_code': None},\n",
       "   'mask': '3333',\n",
       "   'name': 'Plaid Credit Card',\n",
       "   'official_name': 'Plaid Diamond 12.5% APR Interest Credit Card',\n",
       "   'subtype': 'credit card',\n",
       "   'type': 'credit'},\n",
       "  {'account_id': 'LLDBAQdnvDcRLGgGZojjuXWrjDEv6KiPpWW3K',\n",
       "   'balances': {'available': 43200,\n",
       "    'current': 43200,\n",
       "    'iso_currency_code': 'USD',\n",
       "    'limit': None,\n",
       "    'unofficial_currency_code': None},\n",
       "   'mask': '4444',\n",
       "   'name': 'Plaid Money Market',\n",
       "   'official_name': 'Plaid Platinum Standard 1.85% Interest Money Market',\n",
       "   'subtype': 'money market',\n",
       "   'type': 'depository'},\n",
       "  {'account_id': 'p1nx6lrENnf9R8J8baLLijopaQX7JVuLVQQXo',\n",
       "   'balances': {'available': None,\n",
       "    'current': 320.76,\n",
       "    'iso_currency_code': 'USD',\n",
       "    'limit': None,\n",
       "    'unofficial_currency_code': None},\n",
       "   'mask': '5555',\n",
       "   'name': 'Plaid IRA',\n",
       "   'official_name': None,\n",
       "   'subtype': 'ira',\n",
       "   'type': 'investment'},\n",
       "  {'account_id': 'oMn36WK84nfJb858LWZZIKGXx49Dz6HR7VVve',\n",
       "   'balances': {'available': None,\n",
       "    'current': 23631.9805,\n",
       "    'iso_currency_code': 'USD',\n",
       "    'limit': None,\n",
       "    'unofficial_currency_code': None},\n",
       "   'mask': '6666',\n",
       "   'name': 'Plaid 401k',\n",
       "   'official_name': None,\n",
       "   'subtype': '401k',\n",
       "   'type': 'investment'},\n",
       "  {'account_id': 'g4WyDNRQKWf1wVqVGJ88Fw8A7ler5ncgn77yx',\n",
       "   'balances': {'available': None,\n",
       "    'current': 65262,\n",
       "    'iso_currency_code': 'USD',\n",
       "    'limit': None,\n",
       "    'unofficial_currency_code': None},\n",
       "   'mask': '7777',\n",
       "   'name': 'Plaid Student Loan',\n",
       "   'official_name': None,\n",
       "   'subtype': 'student',\n",
       "   'type': 'loan'}],\n",
       " 'item': {'available_products': ['auth',\n",
       "   'balance',\n",
       "   'credit_details',\n",
       "   'identity',\n",
       "   'investments',\n",
       "   'liabilities'],\n",
       "  'billed_products': ['assets', 'income', 'transactions'],\n",
       "  'consent_expiration_time': None,\n",
       "  'error': None,\n",
       "  'institution_id': 'ins_109508',\n",
       "  'item_id': 'zkXZ6AjRpXCoXQDQzKllcQpbvNwl45sov6gjB',\n",
       "  'webhook': ''},\n",
       " 'request_id': 'a5N3BTzoLXEZ1rZ'}"
      ]
     },
     "execution_count": 15,
     "metadata": {},
     "output_type": "execute_result"
    }
   ],
   "source": [
    "client.Accounts.get(access_token)"
   ]
  },
  {
   "cell_type": "markdown",
   "metadata": {},
   "source": [
    "---"
   ]
  },
  {
   "cell_type": "markdown",
   "metadata": {},
   "source": [
    "# Account Transactions with Plaid\n",
    "\n",
    "In this section, you will use the Plaid Python SDK to connect to the Developer Sandbox account and grab a list of transactions. You will need to complete the following steps:\n",
    "\n",
    "\n",
    "1. Use the access token to fetch the transactions for the last 90 days\n",
    "2. Print the categories for each transaction type\n",
    "3. Create a new DataFrame using the following fields from the JSON transaction data: `date, name, amount, category`. (For categories with more than one label, just use the first category label in the list)\n",
    "4. Convert the data types to the appropriate types (i.e. datetimeindex for the date and float for the amount)"
   ]
  },
  {
   "cell_type": "markdown",
   "metadata": {},
   "source": [
    "### 1. Fetch the Transactions for the last 90 days"
   ]
  },
  {
   "cell_type": "code",
   "execution_count": 16,
   "metadata": {},
   "outputs": [
    {
     "name": "stdout",
     "output_type": "stream",
     "text": [
      "[\n",
      "  {\n",
      "    \"account_id\": \"1bEkALoKdEfPQzgzlAWWU893ZDaKVWc5ePPD9\",\n",
      "    \"account_owner\": null,\n",
      "    \"amount\": 500,\n",
      "    \"authorized_date\": null,\n",
      "    \"category\": [\n",
      "      \"Food and Drink\",\n",
      "      \"Restaurants\"\n",
      "    ],\n",
      "    \"category_id\": \"13005000\",\n",
      "    \"date\": \"2020-04-25\",\n",
      "    \"iso_currency_code\": \"USD\",\n",
      "    \"location\": {\n",
      "      \"address\": null,\n",
      "      \"city\": null,\n",
      "      \"country\": null,\n",
      "      \"lat\": null,\n",
      "      \"lon\": null,\n",
      "      \"postal_code\": null,\n",
      "      \"region\": null,\n",
      "      \"store_number\": null\n",
      "    },\n",
      "    \"name\": \"Tectra Inc\",\n",
      "    \"payment_channel\": \"in store\",\n",
      "    \"payment_meta\": {\n",
      "      \"by_order_of\": null,\n",
      "      \"payee\": null,\n",
      "      \"payer\": null,\n",
      "      \"payment_method\": null,\n",
      "      \"payment_processor\": null,\n",
      "      \"ppd_id\": null,\n",
      "      \"reason\": null,\n",
      "      \"reference_number\": null\n",
      "    },\n",
      "    \"pending\": false,\n",
      "    \"pending_transaction_id\": null,\n",
      "    \"transaction_code\": null,\n",
      "    \"transaction_id\": \"3yA7ZL8z4ASZ83E3GQbbhrL7NMoWjViqnVVWd\",\n",
      "    \"transaction_type\": \"place\",\n",
      "    \"unofficial_currency_code\": null\n",
      "  },\n",
      "  {\n",
      "    \"account_id\": \"1bEkALoKdEfPQzgzlAWWU893ZDaKVWc5ePPD9\",\n",
      "    \"account_owner\": null,\n",
      "    \"amount\": 2078.5,\n",
      "    \"authorized_date\": null,\n",
      "    \"category\": [\n",
      "      \"Payment\"\n",
      "    ],\n",
      "    \"category_id\": \"16000000\",\n",
      "    \"date\": \"2020-04-24\",\n",
      "    \"iso_currency_code\": \"USD\",\n",
      "    \"location\": {\n",
      "      \"address\": null,\n",
      "      \"city\": null,\n",
      "      \"country\": null,\n",
      "      \"lat\": null,\n",
      "      \"lon\": null,\n",
      "      \"postal_code\": null,\n",
      "      \"region\": null,\n",
      "      \"store_number\": null\n",
      "    },\n",
      "    \"name\": \"AUTOMATIC PAYMENT - THANK\",\n",
      "    \"payment_channel\": \"other\",\n",
      "    \"payment_meta\": {\n",
      "      \"by_order_of\": null,\n",
      "      \"payee\": null,\n",
      "      \"payer\": null,\n",
      "      \"payment_method\": null,\n",
      "      \"payment_processor\": null,\n",
      "      \"ppd_id\": null,\n",
      "      \"reason\": null,\n",
      "      \"reference_number\": null\n",
      "    },\n",
      "    \"pending\": false,\n",
      "    \"pending_transaction_id\": null,\n",
      "    \"transaction_code\": null,\n",
      "    \"transaction_id\": \"azbWRPn4vbta5VNVl7DDc7ZVwnvLqDs7QKKng\",\n",
      "    \"transaction_type\": \"special\",\n",
      "    \"unofficial_currency_code\": null\n",
      "  }\n",
      "]\n"
     ]
    }
   ],
   "source": [
    "# Extract Transactions with date range\n",
    "start_date = '{:%Y-%m-%d}'.format(datetime.datetime.now() + datetime.timedelta(-90))\n",
    "end_date = '{:%Y-%m-%d}'.format(datetime.datetime.now()) \n",
    "transactions_response = client.Transactions.get(access_token, start_date, end_date)\n",
    "print(json.dumps(transactions_response['transactions'][:2],indent=2, sort_keys=True))"
   ]
  },
  {
   "cell_type": "markdown",
   "metadata": {},
   "source": [
    "### 2. Print the categories for each transaction"
   ]
  },
  {
   "cell_type": "code",
   "execution_count": 17,
   "metadata": {},
   "outputs": [
    {
     "name": "stdout",
     "output_type": "stream",
     "text": [
      "[\"Food and Drink\", \"Restaurants\"]\n",
      "[\"Payment\"]\n",
      "[\"Food and Drink\", \"Restaurants\", \"Fast Food\"]\n",
      "[\"Shops\", \"Sporting Goods\"]\n",
      "[\"Payment\", \"Credit Card\"]\n",
      "[\"Travel\", \"Taxi\"]\n",
      "[\"Transfer\", \"Debit\"]\n",
      "[\"Transfer\", \"Deposit\"]\n",
      "[\"Recreation\", \"Gyms and Fitness Centers\"]\n",
      "[\"Travel\", \"Airlines and Aviation Services\"]\n",
      "[\"Food and Drink\", \"Restaurants\", \"Fast Food\"]\n",
      "[\"Food and Drink\", \"Restaurants\", \"Coffee Shop\"]\n",
      "[\"Food and Drink\", \"Restaurants\"]\n",
      "[\"Transfer\", \"Credit\"]\n",
      "[\"Travel\", \"Airlines and Aviation Services\"]\n",
      "[\"Travel\", \"Taxi\"]\n",
      "[\"Food and Drink\", \"Restaurants\"]\n",
      "[\"Payment\"]\n",
      "[\"Food and Drink\", \"Restaurants\", \"Fast Food\"]\n",
      "[\"Shops\", \"Sporting Goods\"]\n",
      "[\"Payment\", \"Credit Card\"]\n",
      "[\"Travel\", \"Taxi\"]\n",
      "[\"Transfer\", \"Debit\"]\n",
      "[\"Transfer\", \"Deposit\"]\n",
      "[\"Recreation\", \"Gyms and Fitness Centers\"]\n",
      "[\"Travel\", \"Airlines and Aviation Services\"]\n",
      "[\"Food and Drink\", \"Restaurants\", \"Fast Food\"]\n",
      "[\"Food and Drink\", \"Restaurants\", \"Coffee Shop\"]\n",
      "[\"Food and Drink\", \"Restaurants\"]\n",
      "[\"Transfer\", \"Credit\"]\n",
      "[\"Travel\", \"Airlines and Aviation Services\"]\n",
      "[\"Travel\", \"Taxi\"]\n",
      "[\"Food and Drink\", \"Restaurants\"]\n",
      "[\"Payment\"]\n",
      "[\"Food and Drink\", \"Restaurants\", \"Fast Food\"]\n",
      "[\"Shops\", \"Sporting Goods\"]\n",
      "[\"Payment\", \"Credit Card\"]\n",
      "[\"Travel\", \"Taxi\"]\n",
      "[\"Transfer\", \"Debit\"]\n",
      "[\"Transfer\", \"Deposit\"]\n",
      "[\"Recreation\", \"Gyms and Fitness Centers\"]\n",
      "[\"Travel\", \"Airlines and Aviation Services\"]\n",
      "[\"Food and Drink\", \"Restaurants\", \"Fast Food\"]\n",
      "[\"Food and Drink\", \"Restaurants\", \"Coffee Shop\"]\n",
      "[\"Food and Drink\", \"Restaurants\"]\n",
      "[\"Transfer\", \"Credit\"]\n",
      "[\"Travel\", \"Airlines and Aviation Services\"]\n",
      "[\"Travel\", \"Taxi\"]\n",
      "[\"Food and Drink\", \"Restaurants\"]\n"
     ]
    }
   ],
   "source": [
    "# Iterate and parse JSON response\n",
    "for transactions in transactions_response['transactions']:\n",
    "        print(json.dumps(transactions['category']))"
   ]
  },
  {
   "cell_type": "markdown",
   "metadata": {},
   "source": [
    "### 3. Create a new DataFrame using the following fields from the JSON transaction data: date, name, amount, category. \n",
    "\n",
    "(For categories with more than one label, just use the first category label in the list)"
   ]
  },
  {
   "cell_type": "code",
   "execution_count": 18,
   "metadata": {},
   "outputs": [
    {
     "data": {
      "text/html": [
       "<div>\n",
       "<style scoped>\n",
       "    .dataframe tbody tr th:only-of-type {\n",
       "        vertical-align: middle;\n",
       "    }\n",
       "\n",
       "    .dataframe tbody tr th {\n",
       "        vertical-align: top;\n",
       "    }\n",
       "\n",
       "    .dataframe thead th {\n",
       "        text-align: right;\n",
       "    }\n",
       "</style>\n",
       "<table border=\"1\" class=\"dataframe\">\n",
       "  <thead>\n",
       "    <tr style=\"text-align: right;\">\n",
       "      <th></th>\n",
       "      <th>date</th>\n",
       "      <th>amount</th>\n",
       "      <th>name</th>\n",
       "      <th>category</th>\n",
       "    </tr>\n",
       "  </thead>\n",
       "  <tbody>\n",
       "    <tr>\n",
       "      <th>0</th>\n",
       "      <td>2020-04-25</td>\n",
       "      <td>500.0</td>\n",
       "      <td>Tectra Inc</td>\n",
       "      <td>Food and Drink</td>\n",
       "    </tr>\n",
       "    <tr>\n",
       "      <th>1</th>\n",
       "      <td>2020-04-24</td>\n",
       "      <td>2078.5</td>\n",
       "      <td>AUTOMATIC PAYMENT - THANK</td>\n",
       "      <td>Payment</td>\n",
       "    </tr>\n",
       "    <tr>\n",
       "      <th>2</th>\n",
       "      <td>2020-04-24</td>\n",
       "      <td>500.0</td>\n",
       "      <td>KFC</td>\n",
       "      <td>Food and Drink</td>\n",
       "    </tr>\n",
       "    <tr>\n",
       "      <th>3</th>\n",
       "      <td>2020-04-24</td>\n",
       "      <td>500.0</td>\n",
       "      <td>Madison Bicycle Shop</td>\n",
       "      <td>Shops</td>\n",
       "    </tr>\n",
       "    <tr>\n",
       "      <th>4</th>\n",
       "      <td>2020-04-15</td>\n",
       "      <td>25.0</td>\n",
       "      <td>CREDIT CARD 3333 PAYMENT *//</td>\n",
       "      <td>Payment</td>\n",
       "    </tr>\n",
       "  </tbody>\n",
       "</table>\n",
       "</div>"
      ],
      "text/plain": [
       "         date  amount                          name        category\n",
       "0  2020-04-25   500.0                    Tectra Inc  Food and Drink\n",
       "1  2020-04-24  2078.5     AUTOMATIC PAYMENT - THANK         Payment\n",
       "2  2020-04-24   500.0                           KFC  Food and Drink\n",
       "3  2020-04-24   500.0          Madison Bicycle Shop           Shops\n",
       "4  2020-04-15    25.0  CREDIT CARD 3333 PAYMENT *//         Payment"
      ]
     },
     "execution_count": 18,
     "metadata": {},
     "output_type": "execute_result"
    }
   ],
   "source": [
    "df = pd.DataFrame.from_dict(transactions_response['transactions'])\n",
    "df[['category1','c2', 'c3']] = pd.DataFrame(df.category.values.tolist(), index= df.index)\n",
    "df.drop(df.columns.difference(['amount','category1', 'date', 'name']), 1, inplace=True)\n",
    "df = df[['date', 'amount', 'name', 'category1']].rename(columns={\"category1\": \"category\"})\n",
    "df.head()"
   ]
  },
  {
   "cell_type": "markdown",
   "metadata": {},
   "source": [
    "### 4. Convert the data types to the appropriate types \n",
    "\n",
    "(i.e. datetimeindex for the date and float for the amount)"
   ]
  },
  {
   "cell_type": "code",
   "execution_count": 19,
   "metadata": {},
   "outputs": [
    {
     "data": {
      "text/plain": [
       "date        49\n",
       "amount      49\n",
       "name        49\n",
       "category    49\n",
       "dtype: int64"
      ]
     },
     "execution_count": 19,
     "metadata": {},
     "output_type": "execute_result"
    }
   ],
   "source": [
    "df['amount'] = df['amount'].astype(float)\n",
    "df.set_index(pd.to_datetime(df['date'], infer_datetime_format=True), inplace=True)\n",
    "df.drop(columns=['date'])\n",
    "df.count()"
   ]
  },
  {
   "cell_type": "markdown",
   "metadata": {},
   "source": [
    "---"
   ]
  },
  {
   "cell_type": "markdown",
   "metadata": {},
   "source": [
    "# Income Analysis with Plaid\n",
    "\n",
    "In this section, you will use the Plaid Sandbox to complete the following:\n",
    "1. Determine the previous year's gross income and print the results\n",
    "2. Determine the current monthly income and print the results\n",
    "3. Determine the projected yearly income and print the results"
   ]
  },
  {
   "cell_type": "code",
   "execution_count": 20,
   "metadata": {},
   "outputs": [
    {
     "name": "stdout",
     "output_type": "stream",
     "text": [
      "{\n",
      "  \"income_streams\": [\n",
      "    {\n",
      "      \"confidence\": 0.99,\n",
      "      \"days\": 690,\n",
      "      \"monthly_income\": 500,\n",
      "      \"name\": \"UNITED AIRLINES\"\n",
      "    }\n",
      "  ],\n",
      "  \"last_year_income\": 6000,\n",
      "  \"last_year_income_before_tax\": 7285,\n",
      "  \"max_number_of_overlapping_income_streams\": 1,\n",
      "  \"number_of_income_streams\": 1,\n",
      "  \"projected_yearly_income\": 6085,\n",
      "  \"projected_yearly_income_before_tax\": 7389\n",
      "}\n"
     ]
    }
   ],
   "source": [
    "# YOUR CODE HERE\n",
    "start_date = '{:%Y-%m-%d}'.format(datetime.datetime.now() + datetime.timedelta(-365))\n",
    "end_date = '{:%Y-%m-%d}'.format(datetime.datetime.now()) \n",
    "income_response = client.Income.get(access_token)\n",
    "print(json.dumps(income_response['income'],indent=2, sort_keys=True))"
   ]
  },
  {
   "cell_type": "code",
   "execution_count": 21,
   "metadata": {},
   "outputs": [
    {
     "name": "stdout",
     "output_type": "stream",
     "text": [
      "Previous year gross income was:\n",
      "7285\n",
      "The current monthly income is:\n",
      "500\n",
      "The projected yearly net income is:\n",
      "6085\n",
      "The projected yearly gross income is:\n",
      "7389\n"
     ]
    }
   ],
   "source": [
    "print('Previous year gross income was:')\n",
    "print (income_response['income']['last_year_income_before_tax'])\n",
    "print('The current monthly income is:')\n",
    "monthly_income = income_response['income']['income_streams'][0]['monthly_income']\n",
    "print(monthly_income)\n",
    "print('The projected yearly net income is:')\n",
    "print (income_response['income']['projected_yearly_income'])\n",
    "print('The projected yearly gross income is:')\n",
    "print (income_response['income']['projected_yearly_income_before_tax'])"
   ]
  },
  {
   "cell_type": "markdown",
   "metadata": {},
   "source": [
    "---"
   ]
  },
  {
   "cell_type": "markdown",
   "metadata": {},
   "source": [
    "# Budget Analysis\n",
    "In this section, you will use the transactions DataFrame to analyze the customer's budget\n",
    "\n",
    "1. Calculate the total spending per category and print the results (Hint: groupby or count transactions per category)\n",
    "2. Generate a bar chart with the number of transactions for each category \n",
    "3. Calculate the expenses per month\n",
    "4. Plot the total expenses per month"
   ]
  },
  {
   "cell_type": "markdown",
   "metadata": {},
   "source": [
    "### Calculate the expenses per category"
   ]
  },
  {
   "cell_type": "code",
   "execution_count": 22,
   "metadata": {},
   "outputs": [
    {
     "name": "stdout",
     "output_type": "stream",
     "text": [
      "                  amount\n",
      "category                \n",
      "Food and Drink   3817.19\n",
      "Payment          6310.50\n",
      "Recreation        235.50\n",
      "Shops            1500.00\n",
      "Transfer        20537.34\n",
      "Travel             35.19\n"
     ]
    }
   ],
   "source": [
    "print(df.groupby('category').sum())"
   ]
  },
  {
   "cell_type": "code",
   "execution_count": 23,
   "metadata": {},
   "outputs": [
    {
     "data": {
      "text/plain": [
       "<matplotlib.axes._subplots.AxesSubplot at 0x123483cd0>"
      ]
     },
     "execution_count": 23,
     "metadata": {},
     "output_type": "execute_result"
    },
    {
     "data": {
      "image/png": "[encoded data removed]",
      "text/plain": [
       "<Figure size 720x720 with 1 Axes>"
      ]
     },
     "metadata": {
      "needs_background": "light"
     },
     "output_type": "display_data"
    }
   ],
   "source": [
    "df.groupby('category').count().plot.bar(figsize=(10,10))"
   ]
  },
  {
   "cell_type": "markdown",
   "metadata": {},
   "source": [
    "### Calculate the expenses per month"
   ]
  },
  {
   "cell_type": "code",
   "execution_count": 24,
   "metadata": {},
   "outputs": [
    {
     "name": "stdout",
     "output_type": "stream",
     "text": [
      "              amount\n",
      "date                \n",
      "2020-01-31   1006.33\n",
      "2020-02-29  10145.24\n",
      "2020-03-31  11145.24\n",
      "2020-04-30  10138.91\n"
     ]
    }
   ],
   "source": [
    "df_month = df.groupby(pd.Grouper(freq='M'))\n",
    "df_month_expenses = df_month.sum()\n",
    "print(df_month_expenses)"
   ]
  },
  {
   "cell_type": "code",
   "execution_count": 25,
   "metadata": {},
   "outputs": [
    {
     "data": {
      "text/plain": [
       "<matplotlib.axes._subplots.AxesSubplot at 0x1243e96d0>"
      ]
     },
     "execution_count": 25,
     "metadata": {},
     "output_type": "execute_result"
    },
    {
     "data": {
      "image/png": "[encoded data removed]",
      "text/plain": [
       "<Figure size 720x720 with 1 Axes>"
      ]
     },
     "metadata": {
      "needs_background": "light"
     },
     "output_type": "display_data"
    }
   ],
   "source": [
    "# YOUR CODE HERE\n",
    "df_month = df.groupby(pd.Grouper(freq='M'))\n",
    "df_month.sum().plot.bar(figsize=(10,10))"
   ]
  }
 ],
 "metadata": {
  "kernel_info": {
   "name": "dev"
  },
  "kernelspec": {
   "display_name": "Python 3",
   "language": "python",
   "name": "python3"
  },
  "language_info": {
   "codemirror_mode": {
    "name": "ipython",
    "version": 3
   },
   "file_extension": ".py",
   "mimetype": "text/x-python",
   "name": "python",
   "nbconvert_exporter": "python",
   "pygments_lexer": "ipython3",
   "version": "3.7.7"
  },
  "nteract": {
   "version": "0.12.3"
  }
 },
 "nbformat": 4,
 "nbformat_minor": 4
}
